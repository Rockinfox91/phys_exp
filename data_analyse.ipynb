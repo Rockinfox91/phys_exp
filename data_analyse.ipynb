{
 "cells": [
  {
   "cell_type": "code",
   "execution_count": null,
   "metadata": {
    "collapsed": true,
    "ExecuteTime": {
     "start_time": "2023-04-16T22:05:12.071278Z",
     "end_time": "2023-04-16T22:05:13.622576Z"
    }
   },
   "outputs": [],
   "source": [
    "import matplotlib.pyplot as plt\n",
    "import pandas as pd\n",
    "import numpy as np\n",
    "from scipy.stats import linregress\n",
    "import math\n",
    "\n",
    "def plot_data_theory(datafile, x_col, y_col, theory_col='', title='', x_label='', y_label='', x_unit='', y_unit='', x_error=0.0, y_error=0.0, theory_error=0.0, no_reg = False, desc = '', ytype='linear', xtype='linear',\n",
    "                     set_x=None, set_y=None, droite=False, axes0=(False,False),loglog = False,titrefig=None,maxindex=None,axe_round=1,tab_col=1):\n",
    "    \"\"\"\n",
    "    Permet de réaliser un graphique en utilisant des données expérimentales et théoriques, avec ou sans régression linéaire\n",
    "    :param datafile: nom du fichier contenant les données à afficher (sans extension)\n",
    "    :type datafile: [str]\n",
    "    :param x_col: nom de la/des colonne(s) contenant les valeurs en abscisse\n",
    "    :type x_col: [str]\n",
    "    :param y_col: nom de la/des colonne(s) contenant les valeurs en ordonnée\n",
    "    :type y_col: str\n",
    "    :param theory_col: nom de la colonne contenant les valeurs théoriques en ordonnée (optionnel)\n",
    "    :type theory_col: str\n",
    "    :param title: titre du graphique (optionnel)\n",
    "    :type title: str\n",
    "    :param x_label: label de l'axe des abscisses (optionnel)\n",
    "    :type x_label: str\n",
    "    :param y_label: label de l'axe des ordonnées (optionnel)\n",
    "    :type y_label: str\n",
    "    :param x_unit: unité de l'axe des abscisses (optionnel)\n",
    "    :type x_unit: str\n",
    "    :param y_unit: unité de l'axe des ordonnées (optionnel)\n",
    "    :type y_unit: str\n",
    "    :param x_error: incertitude sur les valeurs en abscisse (optionnel)\n",
    "    :type x_error: float\n",
    "    :param y_error: incertitude sur les valeurs en ordonnée (optionnel)\n",
    "    :type y_error: float\n",
    "    :param theory_error: incertitude sur les valeurs théoriques en ordonnée (optionnel)\n",
    "    :type theory_error: float\n",
    "    :param no_reg: ne pas tracer la régression linéaire (optionnel)\n",
    "    :type no_reg: bool\n",
    "    :param desc: description de la série de données expérimentales (optionnel)\n",
    "    :type desc: str\n",
    "    :param ytype: type d'échelle pour l'axe des ordonnées (optionnel)\n",
    "    :type ytype: str ('linear' ou 'log')\n",
    "    :param xtype: type d'échelle pour l'axe des abscisses (optionnel)\n",
    "    :type xtype: str ('linear' ou 'log')\n",
    "    :param set_x: bornes pour l'axe des abscisses (optionnel)\n",
    "    :type set_x: tuple (xmin, xmax)\n",
    "    :param set_y: bornes pour l'axe des ordonnées (optionnel)\n",
    "    :type set_y: tuple (ymin, ymax)\n",
    "    :param droite: trace une droite au lieu de points pour les données expérimentales (optionnel)\n",
    "    :type droite: bool\n",
    "    :param axes0: afficher les axes x=0 et y=0 (optionnel)\n",
    "    :type axes0: bool\n",
    "    :param loglog: utilisation d'une échelle logarithmique pour les axes (optionnel)\n",
    "    :type loglog: bool\n",
    "    :return: None\n",
    "    :rtype: None\n",
    "    \"\"\"\n",
    "\n",
    "    df = pd.read_excel('data/'+datafile+'.xlsx')\n",
    "\n",
    "    if tab_col == 1:\n",
    "        x_col = [x_col]\n",
    "        y_col = [y_col]\n",
    "\n",
    "    # Create figure and axes\n",
    "    fig, ax = plt.subplots()\n",
    "\n",
    "    for i in range(tab_col):\n",
    "        x = df[x_col[i]]\n",
    "        y = df[y_col[i]]\n",
    "\n",
    "        if maxindex:\n",
    "            x = x[:maxindex]\n",
    "            y = y[:maxindex]\n",
    "\n",
    "        if loglog:\n",
    "            x = np.log(x)\n",
    "            y = np.log(y)\n",
    "\n",
    "        plt.yscale(ytype)\n",
    "        plt.xscale(xtype)\n",
    "\n",
    "        if theory_col != '':\n",
    "            theory = df[theory_col]\n",
    "            # Add theoretical data to the plot\n",
    "            ax.plot(x, theory, '-', label='Théorique', lw=1, color='orange')\n",
    "            if theory_error > 0:\n",
    "                ax.errorbar(x, theory, yerr=theory_error, fmt='none', capsize=2, ecolor='orange')\n",
    "\n",
    "        if not no_reg:\n",
    "            # Calculate linear regression\n",
    "            slope, intercept, r_value, p_value, std_err = linregress(x, y)\n",
    "            a = slope\n",
    "            b = intercept\n",
    "\n",
    "            # Calcul de l'incertitude sur la pente\n",
    "            delta_slope = get_delta_slope(x,y,x_error,y_error)\n",
    "            ax.text(0.05, 0.85, f'a = {a:.4e} +- {delta_slope:1.0e}', transform=ax.transAxes)\n",
    "            ax.text(0.05, 0.80, f'b ~= {b:.4e}', transform=ax.transAxes)\n",
    "\n",
    "            # Add linear regression to the plot\n",
    "            x_reg = np.linspace(x.min(), x.max(), 100)\n",
    "            y_reg = slope * x_reg + intercept\n",
    "            ax.plot(x_reg, y_reg, '--', label=f'Régression linéaire: f(x)=ax+b', lw=1, color='cyan')\n",
    "\n",
    "            # Add R^2 value to the plot\n",
    "            ax.text(0.05, 0.95, f'$R^2 = {r_value**2:.2f}$', transform=ax.transAxes, fontsize=12, verticalalignment='top')\n",
    "\n",
    "        # Add data points to the plot\n",
    "        if droite:\n",
    "            ax.plot(x, y, label=desc)\n",
    "        elif loglog:\n",
    "            plt.loglog(x, y)\n",
    "        elif desc == '':\n",
    "            p = ax.plot(x, y, 'o', label='Données expérimentales', ms=5, mew=1)\n",
    "        else:\n",
    "            p = ax.plot(x, y, 'o', label=desc[i], ms=5, mew=1)\n",
    "\n",
    "        # Add axis labels and title\n",
    "        ax.set_xlabel(x_label + ' (' + x_unit + ')')\n",
    "        ax.set_ylabel(y_label + ' (' + y_unit + ')')\n",
    "        ax.set_title(title)\n",
    "\n",
    "        # Add legend\n",
    "        ax.legend(loc='lower right')\n",
    "\n",
    "        # Add error bars\n",
    "        if x_error > 0:\n",
    "            ax.errorbar(x, y, xerr=x_error, fmt='none', capsize=3, ecolor=p[-1].get_color())\n",
    "        if y_error > 0:\n",
    "            ax.errorbar(x, y, yerr=y_error, fmt='none', capsize=3, ecolor=p[-1].get_color())\n",
    "\n",
    "        # Add power of 10 scale to axes\n",
    "        axis_round = '{x:.' + f'{axe_round}' + 'e}'\n",
    "        ax.yaxis.set_major_formatter(axis_round)\n",
    "        ax.xaxis.set_major_formatter(axis_round)\n",
    "\n",
    "        #Define borns\n",
    "        if set_x:\n",
    "            plt.xlim(set_x[0], set_x[1])\n",
    "        if set_y:\n",
    "            plt.ylim(set_y[0], set_y[1])\n",
    "\n",
    "\n",
    "        # Afficher les axes x=0 et y=0\n",
    "        if axes0[0] == True:\n",
    "            ax.axhline(y=0, color='black')\n",
    "        if axes0[1] == True:\n",
    "            ax.axvline(x=0, color='black')\n",
    "\n",
    "    plt.savefig(f\"fig/{titrefig}\",bbox_inches='tight',dpi=300)\n",
    "\n",
    "    plt.show()\n",
    "\n",
    "def get_delta_slope(x,y,x_err,y_err):\n",
    "    n = np.size(x)-1\n",
    "    x1max = x[0] + x_err\n",
    "    y1max = y[0] - y_err\n",
    "    x2max = x[n] - x_err\n",
    "    y2max = y[n] + y_err\n",
    "\n",
    "    slopemax = (y2max-y1max)/(x2max-x1max)\n",
    "\n",
    "    x1min = x[0] - x_err\n",
    "    y1min = y[0] + y_err\n",
    "    x2min = x[n] + x_err\n",
    "    y2min = y[n] - y_err\n",
    "\n",
    "    slopemin = (y2min-y1min)/(x2min-x1min)\n",
    "\n",
    "    final = abs(slopemax-slopemin)\n",
    "    final /= 2\n",
    "    return final\n",
    "\n",
    "def get_incertitude(tab_val,cst):\n",
    "    \"\"\"\n",
    "    Permet de récupérer les valeurs d'incertitudes d'une équation prenant plusieurs variables.\n",
    "    :param cst: Constante à laquelle multiplier le final\n",
    "    :param tab_val: [(valeur,incertitude_absolue,puissance),...]\n",
    "    :return: tuple (valeur_finale,incertitude_finale)\n",
    "    \"\"\"\n",
    "    valeur_finale = cst\n",
    "    incertitude_finale = 0\n",
    "\n",
    "    for val,inc_abs,puiss in tab_val:\n",
    "        valeur_finale *= val**puiss\n",
    "        incertitude_finale += (puiss*inc_abs/val)**2\n",
    "    incertitude_finale = valeur_finale * np.sqrt(incertitude_finale)\n",
    "\n",
    "    return valeur_finale,incertitude_finale\n",
    "\n",
    "def get_resistivity_from_length(slope, delta_slope, diameter, delta_diameter):\n",
    "    #Permet d'obtenir la resistivité\n",
    "    return get_incertitude([(slope,delta_slope,1),(diameter,delta_diameter,2)],math.pi/4)\n",
    "\n",
    "def get_resistivity_from_diameter(slope, delta_slope, length,delta_length):\n",
    "    #Permet d'obtenir la resistivité\n",
    "    return get_incertitude([(slope,delta_slope,1),(length,delta_length,-1)],math.pi/4)"
   ]
  },
  {
   "cell_type": "code",
   "execution_count": null,
   "outputs": [],
   "source": [
    "#Test pour une valeur connue\n",
    "get_incertitude([(1.52,0.02,2),(156,5,-1)],1)"
   ],
   "metadata": {
    "collapsed": false,
    "ExecuteTime": {
     "start_time": "2023-04-16T22:05:13.620950Z",
     "end_time": "2023-04-16T22:05:13.637282Z"
    }
   }
  },
  {
   "cell_type": "code",
   "execution_count": null,
   "outputs": [],
   "source": [
    "# appel de la fonction pour tracer le graphique pour 0.45 mm de section de cuivre\n",
    "plot_data_theory('data045', 'Longueur', 'Resistance', 'Theorique',\n",
    "                  title='Résistance en fonction de la longueur du fil de cuivre (diamètre de 0.45mm)',\n",
    "                  x_label='Longueur', y_label='Résistance',x_unit='$m$',y_unit=r'$\\Omega$',x_error=0.001,y_error=0.0002,titrefig=\"cuivre_resist_long\")\n",
    "\n",
    "#Si on retire b\n",
    "plot_data_theory('data045', 'Longueur', 'Resistance-', 'Theorique',\n",
    "                  title='Résistance en fonction de la longueur du fil de cuivre (diamètre de 0.45mm)',\n",
    "                  x_label='Longueur', y_label='Résistance - b',x_unit='$m$',y_unit=r'$\\Omega$',x_error=0.001,y_error=0.0002,titrefig=\"cuivre_resist-_long\")\n",
    "\n",
    "print(get_resistivity_from_length(0.11,0.02,0.00045,0.00001))"
   ],
   "metadata": {
    "collapsed": false,
    "ExecuteTime": {
     "start_time": "2023-04-16T22:05:13.636249Z",
     "end_time": "2023-04-16T22:05:15.081938Z"
    }
   }
  },
  {
   "cell_type": "code",
   "execution_count": null,
   "outputs": [],
   "source": [
    "# appel de la fonction pour tracer le graphique pour 2 mm de section de cuivre\n",
    "plot_data_theory('data2', 'Longueur', 'Resistance', 'Theorique',\n",
    "                  title='Résistance en fonction de la longueur du fil de cuivre (diamètre  2mm)',\n",
    "                  x_label='Longueur', y_label='Résistance',x_unit='$m$',y_unit=r'$\\Omega$',x_error=0.001,y_error=0.0002,titrefig=\"cuivre2_resist_long\")\n",
    "print(get_resistivity_from_length(0.005,0.008,0.002,0.00001))"
   ],
   "metadata": {
    "collapsed": false,
    "ExecuteTime": {
     "start_time": "2023-04-16T22:05:15.083616Z",
     "end_time": "2023-04-16T22:05:15.637265Z"
    }
   }
  },
  {
   "cell_type": "code",
   "execution_count": null,
   "outputs": [],
   "source": [
    "# appel de la fonction pour tracer le graphique pour le diamètre avec un fil de 1mm de long\n",
    "plot_data_theory('data_diam', 'Diametre^-2', 'Resistance', 'Theorique',\n",
    "                  title='Résistance en fonction du diamètre du fil de cuivre',\n",
    "                  x_label='1/Diamètre²', y_label='Résistance',x_unit=r'$1/m^2$',y_unit=r'$\\Omega$',x_error=10000000,y_error=0.0002,titrefig=\"cuivre_resist_diam2\")\n",
    "print(get_resistivity_from_diameter(0.0000000003,0.000000000809,0.01,0.001))"
   ],
   "metadata": {
    "collapsed": false,
    "ExecuteTime": {
     "start_time": "2023-04-16T22:05:15.641257Z",
     "end_time": "2023-04-16T22:05:16.267117Z"
    }
   }
  },
  {
   "cell_type": "code",
   "execution_count": null,
   "outputs": [],
   "source": [
    "# appel de la fonction pour tracer le graphique pour intensité en fonction de la tension pour le premier semi\n",
    "plot_data_theory('data_semi', 'Tension', 'Intensité',\n",
    "                  title='Intensité en fonction de la tension pour le premier semi-conducteur',\n",
    "                  x_label='Tension', y_label='Intensité',x_unit='$V$',y_unit='$A$',x_error=0.0005,y_error=0.000001,no_reg = True,titrefig=\"semi1_int_tension\")"
   ],
   "metadata": {
    "collapsed": false,
    "ExecuteTime": {
     "start_time": "2023-04-16T22:05:16.254826Z",
     "end_time": "2023-04-16T22:05:16.641885Z"
    }
   }
  },
  {
   "cell_type": "code",
   "execution_count": null,
   "outputs": [],
   "source": [
    "# appel de la fonction pour tracer le graphique de la résistance en fonction de la température pour le deuxième semi\n",
    "plot_data_theory('data_temp_semi2', 'Temp', 'Ohms',\n",
    "                 title='Résistance en fonction de la température du second semi-conducteur',\n",
    "                 x_label='Température', y_label='Résistance', x_unit='$°C$', y_unit=r'$\\Omega$', x_error=0.4,\n",
    "                 y_error=10, no_reg=True,titrefig=\"semi2_resist_temp\")"
   ],
   "metadata": {
    "collapsed": false,
    "ExecuteTime": {
     "start_time": "2023-04-16T22:05:16.630434Z",
     "end_time": "2023-04-16T22:05:17.279309Z"
    }
   }
  },
  {
   "cell_type": "code",
   "execution_count": null,
   "outputs": [],
   "source": [
    "# appel de la fonction pour tracer le graphique de la résistance en fonction de la température pour le deuxième semi\n",
    "plot_data_theory('data_difftemp_vi', ['V31','V70'], ['I31','I70'],\n",
    "                 desc = ['Silicium à 31°C','Silicium à 70°C'],\n",
    "                 title='Intensité en fonction de la tension pour le deuxième semi-conducteur',\n",
    "                 x_label='Voltage', y_label='Intensité', x_unit='$V$', y_unit='$A$', x_error=0.0001,\n",
    "                 y_error=0.000001, no_reg=True,titrefig=\"semi2_int_volt\",tab_col=2)"
   ],
   "metadata": {
    "collapsed": false,
    "ExecuteTime": {
     "start_time": "2023-04-16T22:05:17.253986Z",
     "end_time": "2023-04-16T22:05:17.648406Z"
    }
   }
  },
  {
   "cell_type": "code",
   "execution_count": null,
   "outputs": [],
   "source": [
    "# On calcule l'incertitude de la resistivité avec la formule p = R*pi*D²/(4l)\n",
    "# On choisit ici l'incertitude globale sur la résistance et une valeur moyenne\n",
    "\n",
    "get_incertitude([(0.011,0.0001,1),(0.0005,0.00001,2),(0.1,0.01,-1)],math.pi/4)"
   ],
   "metadata": {
    "collapsed": false,
    "ExecuteTime": {
     "start_time": "2023-04-16T22:05:17.650417Z",
     "end_time": "2023-04-16T22:05:17.740514Z"
    }
   }
  },
  {
   "cell_type": "code",
   "execution_count": null,
   "outputs": [],
   "source": [
    "# appel de la fonction pour tracer le graphique de la résistance en fonction de la température pour un fil de taille\n",
    "plot_data_theory('data_cuivre_temp', 'Température', 'Résistance',\n",
    "                 title=\"Résistance en fonction de la température d'un fil de cuivre\\n de longueur 10 cm et de diamètre 0.5mm\",\n",
    "                 x_label='Différence température', y_label='Résistance', x_unit='$°C$', y_unit=r'$\\Omega$', x_error=1,\n",
    "                 y_error=0.0001,titrefig=\"cuivre_resi_temp\")\n",
    "#b non nul, on divise alors par RO la température la plus faible à 22,4°C et pour la température on exprime DeltaT\n",
    "a,b = get_incertitude([(0.01,0.0001,1),(0.01,0.0001,-1)],1)\n",
    "print(\"Incertitude de R/R0 : \")\n",
    "print(b)\n",
    "print(\"Incertitude de T-TO : 2\")\n",
    "plot_data_theory('data_cuivre_temp', 'DeltaTemp', 'Resistance-',\n",
    "                 title=\"Résistance en fonction de la température d'un fil de cuivre\\n de longueur 10 cm et de diamètre 0.5mm\",\n",
    "                 x_label='Différence température', y_label='Résistance', x_unit='$°C$', y_unit=r'$\\Omega$', x_error=2,\n",
    "                 y_error=0.000001,axes0=(True,False),titrefig=\"cuivre_resi-_dtemp\")\n",
    "\n",
    "plot_data_theory('data_cuivre_temp', 'AllDeltaTemp', 'AllResistivite',\n",
    "                 title=\"Résistivité en fonction de la température pour le cuivre\",\n",
    "                 x_label='Température', y_label=r'Résistivité', x_unit='$°C$', y_unit=r'$\\Omega\\cdot m$',no_reg=True,desc=r\"Courbe théorique de $\\rho$\",droite=True,titrefig=\"cuivre_theo_resi_temp\") #On entre ici l'incertitude trouvée plus haut"
   ],
   "metadata": {
    "collapsed": false,
    "ExecuteTime": {
     "start_time": "2023-04-16T22:05:17.668877Z",
     "end_time": "2023-04-16T22:05:18.990377Z"
    }
   }
  },
  {
   "cell_type": "code",
   "execution_count": null,
   "outputs": [],
   "source": [
    "from sklearn.linear_model import LinearRegression\n",
    "\n",
    "def plot_regression(filename, col1, col2, n, temp_piece, no,set_x=None, set_y=None,x_error=0,y_error=0):\n",
    "    \"\"\"\n",
    "    Trace un graphique de régression linéaire à partir d'un fichier Excel contenant des données expérimentales.\n",
    "\n",
    "    Parameters\n",
    "    ----------\n",
    "    filename : str\n",
    "        Le nom du fichier Excel à charger, situé dans le dossier 'data'.\n",
    "    col1 : str\n",
    "        Le nom de la première colonne de données à utiliser pour la régression linéaire.\n",
    "    col2 : str\n",
    "        Le nom de la deuxième colonne de données à utiliser pour la régression linéaire.\n",
    "    n : int\n",
    "        Le nombre de premières valeurs à utiliser pour la régression linéaire.\n",
    "    temp_piece : float\n",
    "        La température de la pièce à utiliser pour tracer la courbe théorique.\n",
    "    set_x : Optional[Tuple[float, float]], default=None\n",
    "        Les bornes de la plage de valeurs à afficher sur l'axe x.\n",
    "    set_y : Optional[Tuple[float, float]], default=None\n",
    "        Les bornes de la plage de valeurs à afficher sur l'axe y.\n",
    "\n",
    "    Returns\n",
    "    -------\n",
    "    None\n",
    "\n",
    "    Raises\n",
    "    ------\n",
    "    FileNotFoundError\n",
    "        Si le fichier Excel n'existe pas dans le dossier 'data'.\n",
    "\n",
    "    Examples\n",
    "    --------\n",
    "    >>> plot_regression('data.xlsx', 'colonne1', 'colonne2', 50, 20, set_x=(0, 100), set_y=(0, 200))\n",
    "    \"\"\"\n",
    "\n",
    "    # Load the Excel file\n",
    "    df = pd.read_excel('data/' + filename)\n",
    "\n",
    "    # Select the two columns of interest\n",
    "    x = df[col1]\n",
    "    y = df[col2]\n",
    "\n",
    "    # Create figure and axes\n",
    "    fig, ax = plt.subplots()\n",
    "\n",
    "    # Plot the data\n",
    "    plt.scatter(x, y, label=\"Données Experimentale\")\n",
    "    plt.errorbar(x, y, xerr=x_error, yerr=y_error, fmt='none', color='gray')\n",
    "    # Perform linear regression on the first n points\n",
    "    X = np.array(x[:n]).reshape(-1, 1)\n",
    "    y = np.array(y[:n]).reshape(-1, 1)\n",
    "    model = LinearRegression().fit(X, y)\n",
    "\n",
    "    # Extract the slope and intercept\n",
    "    slope = model.coef_[0][0]\n",
    "    intercept = model.intercept_[0]\n",
    "    print(\"Pente (a) : \" , slope , \"\\nHauteur (b) : \" , intercept)\n",
    "\n",
    "    # Add linear regression to the plot\n",
    "    x_reg = np.linspace(x.min(), x.max(), 100)\n",
    "    y_reg = slope * x_reg + intercept\n",
    "    ax.plot(x_reg, y_reg, '--', label=f'Régression linéaire: f(x)=ax+b', lw=1, color='cyan')\n",
    "\n",
    "    # Add R^2 value to the plot\n",
    "    r_squared = model.score(X, y)\n",
    "    ax.text(0.05, 0.95, f'$R^2 = {r_squared:.2f}$', transform=ax.transAxes, fontsize=12, verticalalignment='top')\n",
    "\n",
    "    # Add titles and labels\n",
    "    plt.title('Regression linéaire sur les {} premières valeurs de {}'.format(n, col2))\n",
    "    plt.xlabel(col1)\n",
    "    plt.ylabel(col2)\n",
    "\n",
    "    # Add power of 10 scale to axes\n",
    "    ax.yaxis.set_major_formatter('{x:.1e}')\n",
    "    ax.xaxis.set_major_formatter('{x:.1e}')\n",
    "\n",
    "    #Define borns\n",
    "    if set_x:\n",
    "        plt.xlim(set_x[0], set_x[1])\n",
    "    if set_y:\n",
    "        plt.ylim(set_y[0], set_y[1])\n",
    "\n",
    "    # Find the x value corresponding to y = temp_piece\n",
    "    tau = (temp_piece - intercept) / slope\n",
    "    print(f\"tau={tau:.2f} secondes\")\n",
    "\n",
    "    #Add theorical plot\n",
    "    y_theo = temp_piece + (y_reg[0] - temp_piece)*np.exp(-x/tau)\n",
    "    ax.plot(x,y_theo , '-', label=f'Courbe théorique obtenue', lw=1, color='orange')\n",
    "\n",
    "\n",
    "    # Show the plot\n",
    "    # Add legend\n",
    "    ax.legend(loc='lower right')\n",
    "    plt.savefig(f\"fig/test_temp_temps{no}\",bbox_inches='tight',dpi=300)\n",
    "    plt.show()"
   ],
   "metadata": {
    "collapsed": false,
    "ExecuteTime": {
     "start_time": "2023-04-16T22:05:18.978399Z",
     "end_time": "2023-04-16T22:05:19.239234Z"
    }
   }
  },
  {
   "cell_type": "code",
   "execution_count": null,
   "outputs": [],
   "source": [
    "plot_regression('tempeallen.xlsx', 'Temps', 'Température',10,20,1,set_y=[-10,23],x_error=0.5,y_error=0.7)\n",
    "plot_regression('tempeallen.xlsx', 'Temps2', 'Température2',15,20,2,set_x=[0,600],set_y=[0,23],x_error=0.5,y_error=0.7)\n",
    "plot_regression('tempeallen.xlsx', 'Temps3', 'Température3',8,20,3,set_y=[0,23],x_error=0.5,y_error=0.7)\n",
    "plot_regression('tempeallen.xlsx', 'Temps4', 'Température4',8,20,4,set_y=[-10,23],x_error=0.5,y_error=0.7)"
   ],
   "metadata": {
    "collapsed": false,
    "ExecuteTime": {
     "start_time": "2023-04-16T22:05:19.241240Z",
     "end_time": "2023-04-16T22:05:20.918691Z"
    }
   }
  },
  {
   "cell_type": "code",
   "execution_count": null,
   "outputs": [],
   "source": [
    "def get_temp_from_time(time):\n",
    "    return 22.4 + (-196 - 22.4 )*np.exp(-time/139)\n",
    "\n",
    "plot_data_theory('tempeallen', 'AllTemps', 'AllTempé',\n",
    "                 title=\"Température en fonction du temps pour le supraconducteur\",\n",
    "                 x_label='Temps', y_label=r'Température', x_unit='$s$', y_unit=r'$°C$',no_reg=True,desc=r\"Courbe théorique de T\",droite=True,titrefig=\"supra_tempé_temps_theo\") #On entre ici l'incertitude trouvée plus haut"
   ],
   "metadata": {
    "collapsed": false,
    "ExecuteTime": {
     "start_time": "2023-04-16T22:05:20.920752Z",
     "end_time": "2023-04-16T22:05:21.291288Z"
    }
   }
  },
  {
   "cell_type": "code",
   "execution_count": null,
   "outputs": [],
   "source": [
    "plot_data_theory('Supra', 'D allen2', 'D supra2',\n",
    "                 title=\"Résistance du supraconducteur en fonction de la résistance de la Allen Bradley\\n durant sa descente\",\n",
    "                 x_label=r'Ohms', y_label=r'Ohms', x_unit='$\\Omega$', y_unit=r'$\\Omega$',no_reg=True,titrefig=\"supra_allen_descente\",axes0=(True,False),axe_round=2,x_error=1,y_error=0.001)\n",
    "plot_data_theory('Supra', 'M allen', 'M supra',\n",
    "                 title=\"Résistance du supraconducteur en fonction de la résistance de la Allen Bradley\\n durant sa remontée\",\n",
    "                 x_label=r'Ohms', y_label=r'Ohms', x_unit='$\\Omega$', y_unit=r'$\\Omega$',no_reg=True,titrefig=\"supra_allen_montee\",axes0=(True,False),axe_round=2,x_error=1,y_error=0.001)"
   ],
   "metadata": {
    "collapsed": false,
    "ExecuteTime": {
     "start_time": "2023-04-16T22:05:21.294807Z",
     "end_time": "2023-04-16T22:05:22.005916Z"
    }
   }
  },
  {
   "cell_type": "code",
   "execution_count": null,
   "outputs": [],
   "source": [
    "from scipy.optimize import curve_fit\n",
    "\n",
    "# Définition de la fonction de régression\n",
    "def func1(R, a, b, c, d, e):\n",
    "    return a/(np.log(R)) + b + c*np.log(R) + d*(np.log(R))**2 + e*(np.log(R))**3\n",
    "\n",
    "# Données d'entrée\n",
    "\n",
    "df = pd.read_excel('data/tempeallen.xlsx')\n",
    "\n",
    "temp = df['Température4K']\n",
    "resistance = df['Resistance4']\n",
    "temp = temp[2:34]\n",
    "resistance = resistance[2:34]\n",
    "print(temp)\n",
    "print(resistance)\n",
    "\n",
    "# Régression\n",
    "popt, pcov = curve_fit(func1, resistance, 1/temp)\n",
    "\n",
    "# Récupération des coefficients de la régression\n",
    "a1, b1, c1, d1, e1 = popt\n",
    "\n",
    "# Affichage des résultats\n",
    "print(\"a = \", a1)\n",
    "print(\"b = \", b1)\n",
    "print(\"c = \", c1)\n",
    "print(\"d = \", d1)\n",
    "print(\"e = \", e1)"
   ],
   "metadata": {
    "collapsed": false,
    "ExecuteTime": {
     "start_time": "2023-04-16T22:16:47.378746Z",
     "end_time": "2023-04-16T22:16:47.456962Z"
    }
   }
  },
  {
   "cell_type": "code",
   "execution_count": null,
   "outputs": [],
   "source": [
    "# Génération de la courbe théorique\n",
    "resistance_theo = np.linspace(resistance.min(), resistance.max(), 1000)\n",
    "temp_theo = 1/func1(resistance_theo, a1,b1,c1,d1,e1)\n",
    "\n",
    "# Tracé du graphique\n",
    "plt.plot(resistance, temp, 'o', label=\"Données expérimentales\")\n",
    "plt.plot(resistance_theo, temp_theo, '-', label=\"Courbe théorique\")\n",
    "plt.xlabel(\"Résistance ($\\Omega$)\")\n",
    "plt.title(\"Régression de la température en fonction de la résistance\\nde la Allen-Bradley\")\n",
    "plt.ylabel(\"Température ($K$)\")\n",
    "plt.legend()\n",
    "plt.savefig(f\"fig/reg_temp_fonctionde_resi_eq1\",bbox_inches='tight',dpi=300)\n",
    "plt.show()\n",
    "\n",
    "\n",
    "resistance_tot = np.linspace(150,200,1000)\n",
    "temp_tot = 1/func1(resistance_tot, a1,b1,c1,d1,e1)\n",
    "plt.plot(resistance_tot, temp_tot, '-', label=\"Courbe théorique\")\n",
    "plt.xlabel(\"Résistance ($\\Omega$)\")\n",
    "plt.title(\"Courbe théorique de la température en fonction de la résistance\\nde la Allen-Bradley\")\n",
    "plt.ylabel(\"Température ($K$)\")\n",
    "plt.xlim(160,210)\n",
    "plt.ylim(50,300)\n",
    "plt.legend()\n",
    "plt.savefig(f\"fig/theorique_temp_fonctionde_resi_eq1\",bbox_inches='tight',dpi=300)\n",
    "plt.show()"
   ],
   "metadata": {
    "collapsed": false,
    "ExecuteTime": {
     "start_time": "2023-04-16T22:16:49.995197Z",
     "end_time": "2023-04-16T22:16:50.540131Z"
    }
   }
  },
  {
   "cell_type": "code",
   "execution_count": null,
   "outputs": [],
   "source": [
    "from scipy.optimize import curve_fit\n",
    "\n",
    "# Définition de la fonction de régression\n",
    "def func2(R, a, b):\n",
    "    return a*np.log(R)/(np.log(R)-b)**2\n",
    "\n",
    "# Données d'entrée\n",
    "resistance = np.array([207, 164.8]) # tableau de résistances\n",
    "temp = np.array([77.36, 291.05]) # tableau de températures correspondantes\n",
    "resistance_err = np.array([1, 1]) # incertitude sur la résistance\n",
    "temp_err = np.array([1, 1]) # incertitude sur la température\n",
    "\n",
    "# Régression pondérée\n",
    "popt, pcov = curve_fit(func2, resistance, temp, sigma=temp_err, absolute_sigma=True, maxfev=10000, p0=(0, 1))\n",
    "\n",
    "# Récupération des coefficients de la régression\n",
    "a, b = popt\n",
    "\n",
    "# Calcul des incertitudes sur les paramètres\n",
    "da, db = np.sqrt(np.diag(pcov))\n",
    "\n",
    "# Affichage des résultats\n",
    "print(\"a = {:.3f} +/- {:.3f}\".format(a, da))\n",
    "print(\"b = {:.3f} +/- {:.3f}\".format(b, db))\n",
    "\n",
    "# Génération de la courbe théorique\n",
    "resistance_theo = np.linspace(resistance.min(), resistance.max(), 1000)\n",
    "temp_theo = func2(resistance_theo, *popt)\n",
    "\n",
    "# Calcul du coefficient de détermination\n",
    "residuals = temp - func2(resistance, *popt)\n",
    "ss_res = np.sum(residuals**2)\n",
    "ss_tot = np.sum((temp - np.mean(temp))**2)\n",
    "r_squared = 1 - (ss_res / ss_tot)\n",
    "\n",
    "# Affichage du coefficient de détermination\n",
    "print(\"R² = {:.3f}\".format(r_squared))\n",
    "\n",
    "# Tracé du graphique\n",
    "plt.plot(resistance, temp, 'o', label=\"Points expérimentaux\")\n",
    "plt.errorbar(resistance, temp, xerr=resistance_err, yerr=temp_err, fmt='none', color='gray')\n",
    "plt.plot(resistance_theo, temp_theo, '-', label=\"Courbe théorique\")\n",
    "plt.xlabel(\"Résistance ($\\Omega$)\")\n",
    "plt.ylabel(\"Température ($K$)\")\n",
    "plt.title(\"Régression de la température en fonction de la résistance\\nde la Allen-Bradley\")\n",
    "plt.text(0.2, 0.2, \"a = {:.3f} +/- {:.3f}\\nb = {:.3f} +/- {:.3f}\\nR²={:.3f}\".format(a, da, b, db, r_squared), transform=plt.gca().transAxes, bbox=dict(facecolor='white', alpha=0.5))\n",
    "plt.legend()\n",
    "plt.savefig(f\"fig/reg_temp_fonctionde_resi_eq2\",bbox_inches='tight',dpi=300)\n",
    "plt.show()"
   ],
   "metadata": {
    "collapsed": false,
    "ExecuteTime": {
     "start_time": "2023-04-16T22:16:51.349571Z",
     "end_time": "2023-04-16T22:16:51.677514Z"
    }
   }
  },
  {
   "cell_type": "code",
   "execution_count": null,
   "outputs": [],
   "source": [
    "df = pd.read_excel('data/Supra.xlsx')\n",
    "\n",
    "resistance_allen = df['D allen2']\n",
    "resistance_supra = df['D supra2']\n",
    "resistance_allen2 = df['D allen']\n",
    "resistance_supra2 = df['D supra']\n",
    "resistance_supra = resistance_supra[:41]\n",
    "resistance_allen = resistance_allen[:41]\n",
    "\n",
    "temp_allen = func2(resistance_allen,a,b)\n",
    "temp_allen2 = 1/func1(resistance_allen,a1,b1,c1,d1,e1)\n",
    "\n",
    "# Calcul de l'incertitude sur la température de la Allen-Bradley\n",
    "dresistance_allen = 1\n",
    "lnR = np.log(resistance_allen)\n",
    "dT_da = lnR/(lnR-b)**2\n",
    "dT_db = (2*a*lnR)/(lnR-b)**3\n",
    "dT_dR = -a*(b+lnR)/(resistance_allen*(lnR-b)**3)\n",
    "dtemp_allen = np.sqrt((dT_da*da)**2 + (dT_db*db)**2 + (dT_dR*dresistance_allen)**2)\n",
    "\n",
    "# Affichage de l'incertitude sur la température de la Allen-Bradley\n",
    "print(\"Incertitude sur la température de la Allen-Bradley : \", dtemp_allen)\n",
    "\n",
    "\n",
    "# Tracé du graphique avec les incertitudes\n",
    "plt.errorbar(temp_allen, resistance_supra*1000, xerr=dtemp_allen, yerr=0.001*1000, fmt='o', label=\"Méthode fonction 1\")\n",
    "plt.errorbar(temp_allen2, resistance_supra*1000, fmt='o', label=\"Méthode fonction 2\")\n",
    "plt.xlabel(\"Température ($K$)\")\n",
    "plt.title(\"Résistance du supraconducteur en fonction de la température\")\n",
    "plt.ylabel(f\"Résistance du supra ($m\\Omega$)\")\n",
    "plt.legend()\n",
    "plt.axhline(y=0, color='black')\n",
    "plt.savefig(f\"fig/final_supra\",bbox_inches='tight',dpi=300)\n",
    "plt.show()"
   ],
   "metadata": {
    "collapsed": false,
    "ExecuteTime": {
     "start_time": "2023-04-16T22:19:46.661018Z",
     "end_time": "2023-04-16T22:19:47.094906Z"
    }
   }
  },
  {
   "cell_type": "code",
   "execution_count": null,
   "outputs": [],
   "source": [],
   "metadata": {
    "collapsed": false,
    "ExecuteTime": {
     "start_time": "2023-04-16T22:05:23.357331Z",
     "end_time": "2023-04-16T22:05:23.401232Z"
    }
   }
  }
 ],
 "metadata": {
  "kernelspec": {
   "display_name": "Python 3",
   "language": "python",
   "name": "python3"
  },
  "language_info": {
   "codemirror_mode": {
    "name": "ipython",
    "version": 2
   },
   "file_extension": ".py",
   "mimetype": "text/x-python",
   "name": "python",
   "nbconvert_exporter": "python",
   "pygments_lexer": "ipython2",
   "version": "2.7.6"
  }
 },
 "nbformat": 4,
 "nbformat_minor": 0
}

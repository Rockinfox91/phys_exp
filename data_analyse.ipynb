{
 "cells": [
  {
   "cell_type": "code",
   "execution_count": null,
   "metadata": {
    "collapsed": true
   },
   "outputs": [],
   "source": [
    "import matplotlib.pyplot as plt\n",
    "import pandas as pd\n",
    "import numpy as np\n",
    "from scipy.stats import linregress\n",
    "import math\n",
    "\n",
    "def plot_data_theory(datafile, x_col, y_col, theory_col='', title='', x_label='', y_label='', x_unit='', y_unit='', x_error=0.0, y_error=0.0, theory_error=0.0, no_reg = False, desc = '', ytype='linear', xtype='linear',\n",
    "                     set_x=None, set_y=None, droite=False, axes0=False,loglog = False):\n",
    "\n",
    "    df = pd.read_excel('data/'+datafile+'.xlsx')\n",
    "\n",
    "    x = df[x_col]\n",
    "    y = df[y_col]\n",
    "\n",
    "    if loglog:\n",
    "        x = np.log(x)\n",
    "        y = np.log(y)\n",
    "\n",
    "    # Create figure and axes\n",
    "    fig, ax = plt.subplots()\n",
    "    plt.yscale(ytype)\n",
    "    plt.xscale(xtype)\n",
    "\n",
    "    if theory_col != '':\n",
    "        theory = df[theory_col]\n",
    "        # Add theoretical data to the plot\n",
    "        ax.plot(x, theory, '-', label='Théorique', lw=1, color='orange')\n",
    "        if theory_error > 0:\n",
    "            ax.errorbar(x, theory, yerr=theory_error, fmt='none', capsize=2, ecolor='orange')\n",
    "\n",
    "    if not no_reg:\n",
    "        # Calculate linear regression\n",
    "        slope, intercept, r_value, p_value, std_err = linregress(x, y)\n",
    "        a = slope\n",
    "        b = intercept\n",
    "\n",
    "        # Calcul de l'incertitude sur la pente\n",
    "        delta_slope = get_delta_slope(x,y,x_error,y_error)\n",
    "        ax.text(0.95, 0.15, f'a = {a:.4e} +- {delta_slope:1.0e}', transform=ax.transAxes, ha='right')\n",
    "        ax.text(0.95, 0.10, f'b ~= {b:.4e}', transform=ax.transAxes, ha='right')\n",
    "\n",
    "        # Add linear regression to the plot\n",
    "        x_reg = np.linspace(x.min(), x.max(), 100)\n",
    "        y_reg = slope * x_reg + intercept\n",
    "        ax.plot(x_reg, y_reg, '--', label=f'Régression linéaire: f(x)=ax+b', lw=1, color='cyan')\n",
    "\n",
    "        # Add R^2 value to the plot\n",
    "        ax.text(0.05, 0.95, f'$R^2 = {r_value**2:.2f}$', transform=ax.transAxes, fontsize=12, verticalalignment='top')\n",
    "\n",
    "    # Add data points to the plot\n",
    "    if droite:\n",
    "        ax.plot(x, y, label=desc)\n",
    "    elif loglog:\n",
    "        plt.loglog(x, y)\n",
    "    elif desc == '':\n",
    "        ax.plot(x, y, 'o', label='Données expérimentales', ms=5, mec='cyan', mew=1)\n",
    "    else:\n",
    "        ax.plot(x, y, 'o', label=desc, ms=5, mec='cyan', mew=1)\n",
    "\n",
    "    # Add axis labels and title\n",
    "    ax.set_xlabel(x_label + ' (' + x_unit + ')')\n",
    "    ax.set_ylabel(y_label + ' (' + y_unit + ')')\n",
    "    ax.set_title(title)\n",
    "\n",
    "    # Add legend\n",
    "    ax.legend(loc='center left', bbox_to_anchor=(1.0, 0.5))\n",
    "\n",
    "    # Add error bars\n",
    "    if x_error > 0:\n",
    "        ax.errorbar(x, y, xerr=x_error, fmt='none', capsize=3, ecolor='cyan')\n",
    "    if y_error > 0:\n",
    "        ax.errorbar(x, y, yerr=y_error, fmt='none', capsize=3, ecolor='cyan')\n",
    "\n",
    "    # Add power of 10 scale to axes\n",
    "    ax.yaxis.set_major_formatter('{x:.1e}')\n",
    "    ax.xaxis.set_major_formatter('{x:.1e}')\n",
    "\n",
    "    #Define borns\n",
    "    if set_x:\n",
    "        plt.xlim(set_x[0], set_x[1])\n",
    "    if set_y:\n",
    "        plt.ylim(set_y[0], set_y[1])\n",
    "\n",
    "\n",
    "    # Afficher les axes x=0 et y=0\n",
    "    if axes0:\n",
    "        ax.axhline(y=0, color='black')\n",
    "        ax.axvline(x=0, color='black')\n",
    "\n",
    "    plt.show()\n",
    "\n",
    "def get_delta_slope(x,y,x_err,y_err):\n",
    "    n = np.size(x)-1\n",
    "    x1max = x[0] + x_err\n",
    "    y1max = y[0] - y_err\n",
    "    x2max = x[n] - x_err\n",
    "    y2max = y[n] + y_err\n",
    "\n",
    "    slopemax = (y2max-y1max)/(x2max-x1max)\n",
    "\n",
    "    x1min = x[0] - x_err\n",
    "    y1min = y[0] + y_err\n",
    "    x2min = x[n] + x_err\n",
    "    y2min = y[n] - y_err\n",
    "\n",
    "    slopemin = (y2min-y1min)/(x2min-x1min)\n",
    "\n",
    "    final = abs(slopemax-slopemin)\n",
    "    final /= 2\n",
    "    return final\n",
    "\n",
    "def get_incertitude(tab_val,cst):\n",
    "    \"\"\"\n",
    "    Permet de récupérer les valeurs d'incertitudes d'une équation prenant plusieurs variables\n",
    "    :param cst: constante à laquelle multiplier le final\n",
    "    :param tab_val: [(valeur,incertitude_absolue,puissance),...]\n",
    "    :return: tuple (valeur_finale,incertitude_finale)\n",
    "    \"\"\"\n",
    "    valeur_finale = cst\n",
    "    incertitude_finale = 0\n",
    "\n",
    "    for val,inc_abs,puiss in tab_val:\n",
    "        valeur_finale *= val**puiss\n",
    "        incertitude_finale += (puiss*inc_abs/val)**2\n",
    "    incertitude_finale = valeur_finale * np.sqrt(incertitude_finale)\n",
    "\n",
    "    return valeur_finale,incertitude_finale\n",
    "\n",
    "def get_resistivity_from_length(slope, delta_slope, diameter, delta_diameter):\n",
    "    #Permet d'obtenir la resistivité\n",
    "    return get_incertitude([(slope,delta_slope,1),(diameter,delta_diameter,2)],math.pi/4)\n",
    "\n",
    "def get_resistivity_from_diameter(slope, delta_slope, length,delta_length):\n",
    "    #Permet d'obtenir la resistivité\n",
    "    return get_incertitude([(slope,delta_slope,1),(length,delta_length,-1)],math.pi/4)"
   ]
  },
  {
   "cell_type": "code",
   "execution_count": null,
   "outputs": [],
   "source": [
    "#Test pour une valeur connue\n",
    "get_incertitude([(1.52,0.02,2),(156,5,-1)],1)"
   ],
   "metadata": {
    "collapsed": false
   }
  },
  {
   "cell_type": "code",
   "execution_count": null,
   "outputs": [],
   "source": [
    "# appel de la fonction pour tracer le graphique pour 0.45 mm de section de cuivre\n",
    "plot_data_theory('data045', 'Longueur', 'Resistance', 'Theorique',\n",
    "                  title='Résistance en fonction de la longueur du fil de cuivre (section de 0.45mm)',\n",
    "                  x_label='Longueur', y_label='Résistance',x_unit='$m$',y_unit=r'$\\Omega$',x_error=0.001,y_error=0.0002)\n",
    "\n",
    "#Si on retire b\n",
    "plot_data_theory('data045', 'Longueur', 'Resistance-', 'Theorique',\n",
    "                  title='Résistance en fonction de la longueur du fil de cuivre (section de 0.45mm)',\n",
    "                  x_label='Longueur', y_label='Résistance - b',x_unit='$m$',y_unit=r'$\\Omega$',x_error=0.001,y_error=0.0002)\n",
    "\n",
    "print(get_resistivity_from_length(0.11,0.02,0.00045,0.00001))"
   ],
   "metadata": {
    "collapsed": false
   }
  },
  {
   "cell_type": "code",
   "execution_count": null,
   "outputs": [],
   "source": [
    "# appel de la fonction pour tracer le graphique pour 2 mm de section de cuivre\n",
    "plot_data_theory('data2', 'Longueur', 'Resistance', 'Theorique',\n",
    "                  title='Résistance en fonction de la longueur du fil de cuivre (section de 2mm)',\n",
    "                  x_label='Longueur', y_label='Résistance',x_unit='$m$',y_unit=r'$\\Omega$',x_error=0.001,y_error=0.0002)\n",
    "print(get_resistivity_from_length(0.005,0.008,0.002,0.00001))"
   ],
   "metadata": {
    "collapsed": false
   }
  },
  {
   "cell_type": "code",
   "execution_count": null,
   "outputs": [],
   "source": [
    "# appel de la fonction pour tracer le graphique pour le diamètre avec un fil de 1mm de long\n",
    "plot_data_theory('data_diam', 'Diametre^-2', 'Resistance', 'Theorique',\n",
    "                  title='Résistance en fonction du diamètre du fil de cuivre',\n",
    "                  x_label='1/Diamètre²', y_label='Résistance',x_unit=r'$1/m^2$',y_unit=r'$\\Omega$',x_error=10000000,y_error=0.0002)\n",
    "print(get_resistivity_from_diameter(0.0000000003,0.000000000809,0.01,0.001))"
   ],
   "metadata": {
    "collapsed": false
   }
  },
  {
   "cell_type": "code",
   "execution_count": null,
   "outputs": [],
   "source": [
    "# appel de la fonction pour tracer le graphique pour intensité en fonction de la tension pour le premier semi\n",
    "plot_data_theory('data_semi', 'Tension', 'Intensité',\n",
    "                  title='Intensité en fonction de la tension pour le premier semi-conducteur',\n",
    "                  x_label='Tension', y_label='Intensité',x_unit='$V$',y_unit='$A$',x_error=0.0005,y_error=0.000001,no_reg = True)"
   ],
   "metadata": {
    "collapsed": false
   }
  },
  {
   "cell_type": "code",
   "execution_count": null,
   "outputs": [],
   "source": [
    "# appel de la fonction pour tracer le graphique de la résistance en fonction de la température pour le deuxième semi\n",
    "plot_data_theory('data_temp_semi2', 'Temp', 'Ohms',\n",
    "                 title='Résistance en fonction de la température du second semi-conducteur',\n",
    "                 x_label='Température', y_label='Résistance', x_unit='$°C$', y_unit=r'$\\Omega$', x_error=0.4,\n",
    "                 y_error=10, no_reg=True)"
   ],
   "metadata": {
    "collapsed": false
   }
  },
  {
   "cell_type": "code",
   "execution_count": null,
   "outputs": [],
   "source": [
    "# appel de la fonction pour tracer le graphique de la résistance en fonction de la température pour le deuxième semi\n",
    "plot_data_theory('data_difftemp_vi', ['V31','V70'], ['I31','I70'],\n",
    "                 desc = ['Silicium à 31°C','Silicium à 70°C'],\n",
    "                 title='Intensité en fonction de la tension pour le deuxième semi-conducteur',\n",
    "                 x_label='Voltage', y_label='Intensité', x_unit='$V$', y_unit='$A$', x_error=0.0001,\n",
    "                 y_error=0.000001, no_reg=True)"
   ],
   "metadata": {
    "collapsed": false
   }
  },
  {
   "cell_type": "code",
   "execution_count": null,
   "outputs": [],
   "source": [
    "# On calcule l'incertitude de la resistivité avec la formule p = R*pi*D²/(4l)\n",
    "# On choisit ici l'incertitude globale sur la résistance et une valeur moyenne\n",
    "\n",
    "get_incertitude([(0.011,0.0001,1),(0.0005,0.00001,2),(0.1,0.01,-1)],math.pi/4)"
   ],
   "metadata": {
    "collapsed": false
   }
  },
  {
   "cell_type": "code",
   "execution_count": null,
   "outputs": [],
   "source": [
    "# appel de la fonction pour tracer le graphique de la résistance en fonction de la température pour un fil de taille\n",
    "plot_data_theory('data_cuivre_temp', 'Température', 'Résistance',\n",
    "                 title=\"Résistance en fonction de la température d'un fil de cuivre\\n de longueur 10 cm et de diamètre 0.5mm\",\n",
    "                 x_label='Température', y_label='Résistance', x_unit='$°C$', y_unit=r'$\\Omega$', x_error=1,\n",
    "                 y_error=0.0001)\n",
    "#b non nul, on divise alors par RO la température la plus faible à 22,4°C et pour la température on exprime DeltaT\n",
    "a,b = get_incertitude([(0.01,0.0001,1),(0.01,0.0001,-1)],1)\n",
    "print(\"Incertitude de R/R0 : \")\n",
    "print(b)\n",
    "print(\"Incertitude de T-TO : 2\")\n",
    "plot_data_theory('data_cuivre_temp', 'DeltaTemp', 'Resistance-',\n",
    "                 title=\"Résistance en fonction de la température d'un fil de cuivre\\n de longueur 10 cm et de diamètre 0.5mm\",\n",
    "                 x_label='Température', y_label='Résistance', x_unit='$°C$', y_unit=r'$\\Omega$', x_error=2,\n",
    "                 y_error=0.000001,axes0=True)\n",
    "\n",
    "plot_data_theory('data_cuivre_temp', 'AllDeltaTemp', 'AllResistivite',\n",
    "                 title=\"Résistivité en fonction de la température pour le cuivre\",\n",
    "                 x_label='Température', y_label=r'Résistivité', x_unit='$°C$', y_unit=r'$\\Omega\\cdot m$',no_reg=True,desc=r\"Courbe théorique de $\\rho$\",droite=True) #On entre ici l'incertitude trouvée plus haut"
   ],
   "metadata": {
    "collapsed": false
   }
  },
  {
   "cell_type": "code",
   "execution_count": null,
   "outputs": [],
   "source": [
    "from sklearn.linear_model import LinearRegression\n",
    "\n",
    "def plot_regression(filename, col1, col2, n, temp_piece, set_x=None, set_y=None):\n",
    "    # Load the Excel file\n",
    "    df = pd.read_excel('data/' + filename)\n",
    "\n",
    "    # Select the two columns of interest\n",
    "    x = df[col1]\n",
    "    y = df[col2]\n",
    "\n",
    "    # Create figure and axes\n",
    "    fig, ax = plt.subplots()\n",
    "\n",
    "    # Plot the data\n",
    "    plt.scatter(x, y, label=\"Données Experimentale\")\n",
    "\n",
    "    # Perform linear regression on the first n points\n",
    "    X = np.array(x[:n]).reshape(-1, 1)\n",
    "    y = np.array(y[:n]).reshape(-1, 1)\n",
    "    model = LinearRegression().fit(X, y)\n",
    "\n",
    "    # Extract the slope and intercept\n",
    "    slope = model.coef_[0][0]\n",
    "    intercept = model.intercept_[0]\n",
    "    print(\"Pente (a) : \" , slope , \"\\nHauteur (b) : \" , intercept)\n",
    "\n",
    "    # Add linear regression to the plot\n",
    "    x_reg = np.linspace(x.min(), x.max(), 100)\n",
    "    y_reg = slope * x_reg + intercept\n",
    "    ax.plot(x_reg, y_reg, '--', label=f'Régression linéaire: f(x)=ax+b', lw=1, color='cyan')\n",
    "\n",
    "    # Add R^2 value to the plot\n",
    "    r_squared = model.score(X, y)\n",
    "    ax.text(0.05, 0.95, f'$R^2 = {r_squared:.2f}$', transform=ax.transAxes, fontsize=12, verticalalignment='top')\n",
    "\n",
    "    # Add titles and labels\n",
    "    plt.title('Regression linéaire sur les {} premières valeurs de {}'.format(n, col2))\n",
    "    plt.xlabel(col1)\n",
    "    plt.ylabel(col2)\n",
    "\n",
    "    # Add power of 10 scale to axes\n",
    "    ax.yaxis.set_major_formatter('{x:.1e}')\n",
    "    ax.xaxis.set_major_formatter('{x:.1e}')\n",
    "\n",
    "    #Define borns\n",
    "    if set_x:\n",
    "        plt.xlim(set_x[0], set_x[1])\n",
    "    if set_y:\n",
    "        plt.ylim(set_y[0], set_y[1])\n",
    "\n",
    "    # Find the x value corresponding to y = temp_piece\n",
    "    tau = (temp_piece - intercept) / slope\n",
    "    print(f\"tau={tau:.2f} secondes\")\n",
    "\n",
    "    #Add theorical plot\n",
    "    y_theo = temp_piece + (y_reg[0] - temp_piece)*np.exp(-x/tau)\n",
    "    ax.plot(x,y_theo , '-', label=f'Courbe théorique obtenue', lw=1, color='orange')\n",
    "\n",
    "\n",
    "    # Show the plot\n",
    "    # Add legend\n",
    "    ax.legend(loc='center left', bbox_to_anchor=(1.0, 0.5))\n",
    "    plt.show()"
   ],
   "metadata": {
    "collapsed": false
   }
  },
  {
   "cell_type": "code",
   "execution_count": null,
   "outputs": [],
   "source": [
    "plot_regression('tempeallen.xlsx', 'Temps', 'Température',10,20,set_y=[-10,23])\n",
    "plot_regression('tempeallen.xlsx', 'Temps2', 'Température2',15,20,set_x=[0,600],set_y=[0,23])\n",
    "plot_regression('tempeallen.xlsx', 'Temps3', 'Température3',8,20,set_y=[0,23])\n",
    "plot_regression('tempeallen.xlsx', 'Temps4', 'Température4',8,20,set_y=[-10,23])"
   ],
   "metadata": {
    "collapsed": false
   }
  },
  {
   "cell_type": "code",
   "execution_count": null,
   "outputs": [],
   "source": [
    "plot_data_theory('tempeallen', 'Temps4', 'Température4',\n",
    "                 title=\"Température en fonction du temps, log-log\",\n",
    "                 x_label='Temps', y_label='Température', x_unit='$s$', y_unit=r'$°C$',loglog=True)"
   ],
   "metadata": {
    "collapsed": false
   }
  }
 ],
 "metadata": {
  "kernelspec": {
   "display_name": "Python 3",
   "language": "python",
   "name": "python3"
  },
  "language_info": {
   "codemirror_mode": {
    "name": "ipython",
    "version": 2
   },
   "file_extension": ".py",
   "mimetype": "text/x-python",
   "name": "python",
   "nbconvert_exporter": "python",
   "pygments_lexer": "ipython2",
   "version": "2.7.6"
  }
 },
 "nbformat": 4,
 "nbformat_minor": 0
}
